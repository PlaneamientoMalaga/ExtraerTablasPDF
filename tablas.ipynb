{
 "metadata": {
  "language_info": {
   "codemirror_mode": {
    "name": "ipython",
    "version": 3
   },
   "file_extension": ".py",
   "mimetype": "text/x-python",
   "name": "python",
   "nbconvert_exporter": "python",
   "pygments_lexer": "ipython3",
   "version": "3.8.5"
  },
  "orig_nbformat": 2,
  "kernelspec": {
   "name": "python385jvsc74a57bd0bb465fac2045da53894380084233992edbce3f238c82ec03152783725f127928",
   "display_name": "Python 3.8.5 64-bit (conda)"
  },
  "metadata": {
   "interpreter": {
    "hash": "bb465fac2045da53894380084233992edbce3f238c82ec03152783725f127928"
   }
  }
 },
 "nbformat": 4,
 "nbformat_minor": 2,
 "cells": [
  {
   "source": [
    "!pip install openpyxl"
   ],
   "cell_type": "code",
   "metadata": {},
   "execution_count": 12,
   "outputs": [
    {
     "output_type": "stream",
     "name": "stdout",
     "text": [
      "Collecting openpyxl\n  Downloading openpyxl-3.0.7-py2.py3-none-any.whl (243 kB)\nCollecting et-xmlfile\n  Downloading et_xmlfile-1.1.0-py3-none-any.whl (4.7 kB)\nInstalling collected packages: et-xmlfile, openpyxl\nSuccessfully installed et-xmlfile-1.1.0 openpyxl-3.0.7\n"
     ]
    }
   ]
  },
  {
   "cell_type": "code",
   "execution_count": 1,
   "metadata": {},
   "outputs": [],
   "source": [
    "import tabula\n",
    "import os\n"
   ]
  },
  {
   "cell_type": "code",
   "execution_count": 2,
   "metadata": {},
   "outputs": [],
   "source": [
    "# leer pdf\n",
    "tables = tabula.read_pdf(\"tabla_01.pdf\", pages=\"all\")"
   ]
  },
  {
   "cell_type": "code",
   "execution_count": 3,
   "metadata": {},
   "outputs": [],
   "source": [
    "# carpeta donde guardar\n",
    "folder_name = \"tablas\"\n",
    "if not os.path.isdir(folder_name):\n",
    "    os.mkdir(folder_name)\n",
    "# bucle sobre las tablas que se hayan encontrado\n",
    "for i, table in enumerate(tables, start=1):\n",
    "    table.to_excel(os.path.join(folder_name, f\"table_{i}.xlsx\"), index=False)"
   ]
  },
  {
   "cell_type": "code",
   "execution_count": 11,
   "metadata": {},
   "outputs": [
    {
     "output_type": "stream",
     "name": "stdout",
     "text": [
      "[   Unnamed: 0        2o ETAPA  \\\n0         NaN       I+D+i. 14   \n1         NaN       I+D+i. 15   \n2           E       I+D+i. 16   \n3         NaN      I+D+i. 17a   \n4         NaN      I+D+i. 17b   \n5         NaN       I+D+i. 18   \n6           F      I+D+i. 19a   \n7         NaN      I+D+i. 19b   \n8         NaN      I+D+i. 20a   \n9         NaN      I+D+i. 20b   \n10        NaN       I+D+i. 21   \n11        NaN       I+D+i. 22   \n12          G      I+D+i. 23a   \n13        NaN      I+D+i. 23b   \n14        NaN      I+D+i. 24a   \n15        NaN      I+D+i. 24b   \n16        NaN     TOTAL I+D+i   \n17        NaN             NaN   \n18        NaN          HCCR-1   \n19        NaN          HCCR-2   \n20        NaN          HCCR-3   \n21        NaN      TOTAL HCCR   \n22        NaN             NaN   \n23        NaN         SIPS. 1   \n24        NaN         SIPS. 2   \n25        NaN      TOTAL SIPS   \n26        NaN             NaN   \n27        NaN           UDE-1   \n28        NaN           UDE-2   \n29        NaN           UDE-3   \n30        NaN       TOTAL UDE   \n31        NaN  TOTAL 2o ETAPA   \n\n                                          Unnamed: 1  Unnamed: 2  Unnamed: 3  \\\n0                                      6.674,81 0,65    4.338,63         NaN   \n1                                      7.370,39 0,65    4.790,75         NaN   \n2                                      7.988,76 0,65    5.192,69         NaN   \n3                                      4.124,78 0,65    2.681,11         NaN   \n4                                      3.844,88 0,65    2.499,17         NaN   \n5                                      8.976,21 0,65    5.834,54         NaN   \n6                                      3.326,27 0,65    2.162,08         NaN   \n7                                      3.634,75 0,65    2.362,59         NaN   \n8                                      4.155,43 0,65    2.701,03         NaN   \n9                                      4.180,58 0,65    2.717,38         NaN   \n10                                     7.576,49 0,65    4.924,72         NaN   \n11                                     8.921,26 0,65    5.798,82         NaN   \n12                                     4.029,90 0,65    2.619,44         NaN   \n13                                     4.066,74 0,65    2.643,38         NaN   \n14                                     3.742,70 0,66    2.470,18         NaN   \n15                                     3.743,91 0,65    2.433,54         NaN   \n16                                         86.357,86   56.170,04         NaN   \n17  ZONA HOTELERA, COMERCIAL, CULTURAL Y RESIDENCIAL         NaN         NaN   \n18                                  17.487,33 1,3362   23.366,26         NaN   \n19                                     2.400,35 1,00    2.400,35         NaN   \n20                                          9.501,34         NaN         NaN   \n21                                         29.389,02   23.366,26         NaN   \n22             SERVICIOS DE INTERES PUBLICO Y SOCIAL         NaN         NaN   \n23                                    14.396,22 1,00   14.396,22         NaN   \n24                                     9.955,42 1,00    9.955,42         NaN   \n25                                         24.351,64   24.351,64         NaN   \n26                 USOS DOTACIONALES Y EQUIPAMIENTOS         NaN         NaN   \n27                                    26.245,22 1,00   26.245,22         NaN   \n28                                     1.163,97 1,00    1.163,97         NaN   \n29                                     5.272,52 1,00    5.272,52         NaN   \n30                                         32.681,71   32.681,71         NaN   \n31                                        172.780,23  136.569,65         NaN   \n\n             Unnamed: 4  \n0                   NaN  \n1                   NaN  \n2                   NaN  \n3                   NaN  \n4                   NaN  \n5                   NaN  \n6                   NaN  \n7                   NaN  \n8                   NaN  \n9                   NaN  \n10                  NaN  \n11                  NaN  \n12                  NaN  \n13                  NaN  \n14                  NaN  \n15                  NaN  \n16                  NaN  \n17                  NaN  \n18              PRIVADO  \n19  (*) PUBLICO/PRIVADO  \n20              PUBLICO  \n21                  NaN  \n22                  NaN  \n23                  NaN  \n24              PUBLICA  \n25                  (*)  \n26                  NaN  \n27                  NaN  \n28              PRIVADO  \n29                  NaN  \n30                  (*)  \n31                  NaN  ]\n"
     ]
    }
   ],
   "source": [
    "print(tables)"
   ]
  },
  {
   "cell_type": "code",
   "execution_count": null,
   "metadata": {},
   "outputs": [],
   "source": []
  }
 ]
}